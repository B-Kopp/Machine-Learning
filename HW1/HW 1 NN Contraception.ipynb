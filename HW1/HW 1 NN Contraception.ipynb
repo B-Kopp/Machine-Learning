{
 "cells": [
  {
   "cell_type": "code",
   "execution_count": 7,
   "metadata": {},
   "outputs": [],
   "source": [
    "# Use scikit-learn to grid search the batch size and epochs\n",
    "import numpy as np\n",
    "from sklearn.model_selection import GridSearchCV, train_test_split\n",
    "from sklearn.metrics import accuracy_score\n",
    "import tensorflow as tf\n",
    "from tensorflow.keras import models, layers, optimizers, constraints, callbacks, utils\n",
    "from tensorflow.keras.wrappers.scikit_learn import KerasClassifier\n",
    "import matplotlib.pyplot as plt\n",
    "from time import clock"
   ]
  },
  {
   "cell_type": "code",
   "execution_count": 5,
   "metadata": {},
   "outputs": [],
   "source": [
    "# Function to create model, required for KerasClassifier\n",
    "def create_model(optimizer='Nadam', activation='softplus', neurons=3, init_mode='normal'):\n",
    "    # create model\n",
    "    model = tf.keras.Sequential()\n",
    "    model.add(layers.Dense(neurons, input_dim=9, kernel_initializer=init_mode, activation=activation))\n",
    "    model.add(layers.Dense(neurons, kernel_initializer=init_mode, activation=activation))\n",
    "    model.add(layers.Dense(neurons, kernel_initializer=init_mode, activation=activation))\n",
    "    model.add(layers.Dense(3, activation='softmax'))\n",
    "    # Compile model\n",
    "    model.compile(loss='sparse_categorical_crossentropy', optimizer=optimizer, metrics=['accuracy'])\n",
    "    return model\n",
    "# fix random seed for reproducibility\n",
    "seed = 7\n",
    "np.random.seed(seed)\n",
    "# load dataset\n",
    "dataset = np.loadtxt(\"contraceptive.csv\", delimiter=\",\", skiprows=0)\n",
    "# split into input (X) and output (Y) variables\n",
    "X = dataset[:,0:9]\n",
    "Y = dataset[:,9].astype(int)-1\n",
    "X_train, X_test, y_train, y_test = train_test_split(X, Y, test_size=0.2, random_state=123)\n"
   ]
  },
  {
   "cell_type": "code",
   "execution_count": 6,
   "metadata": {},
   "outputs": [
    {
     "name": "stderr",
     "output_type": "stream",
     "text": [
      "c:\\programdata\\anaconda3\\envs\\venv\\lib\\site-packages\\sklearn\\model_selection\\_split.py:2053: FutureWarning: You should specify a value for 'cv' instead of relying on the default value. The default value will change from 3 to 5 in version 0.22.\n",
      "  warnings.warn(CV_WARNING, FutureWarning)\n"
     ]
    },
    {
     "name": "stdout",
     "output_type": "stream",
     "text": [
      "Time to hypertune: 80.500\n",
      "Best: 0.561121 using {'activation': 'softplus', 'batch_size': 10, 'epochs': 100, 'init_mode': 'he_uniform', 'neurons': 10, 'optimizer': 'RMSprop'}\n",
      "0.539049 (0.028634) with: {'activation': 'softplus', 'batch_size': 10, 'epochs': 100, 'init_mode': 'glorot_normal', 'neurons': 10, 'optimizer': 'Nadam'}\n",
      "0.550085 (0.039030) with: {'activation': 'softplus', 'batch_size': 10, 'epochs': 100, 'init_mode': 'glorot_normal', 'neurons': 10, 'optimizer': 'SGD'}\n",
      "0.546689 (0.048060) with: {'activation': 'softplus', 'batch_size': 10, 'epochs': 100, 'init_mode': 'glorot_normal', 'neurons': 10, 'optimizer': 'RMSprop'}\n",
      "0.540747 (0.012989) with: {'activation': 'softplus', 'batch_size': 10, 'epochs': 100, 'init_mode': 'uniform', 'neurons': 10, 'optimizer': 'Nadam'}\n",
      "0.477080 (0.041574) with: {'activation': 'softplus', 'batch_size': 10, 'epochs': 100, 'init_mode': 'uniform', 'neurons': 10, 'optimizer': 'SGD'}\n",
      "0.516978 (0.024949) with: {'activation': 'softplus', 'batch_size': 10, 'epochs': 100, 'init_mode': 'uniform', 'neurons': 10, 'optimizer': 'RMSprop'}\n",
      "0.536503 (0.031681) with: {'activation': 'softplus', 'batch_size': 10, 'epochs': 100, 'init_mode': 'he_uniform', 'neurons': 10, 'optimizer': 'Nadam'}\n",
      "0.533956 (0.066963) with: {'activation': 'softplus', 'batch_size': 10, 'epochs': 100, 'init_mode': 'he_uniform', 'neurons': 10, 'optimizer': 'SGD'}\n",
      "0.561121 (0.036720) with: {'activation': 'softplus', 'batch_size': 10, 'epochs': 100, 'init_mode': 'he_uniform', 'neurons': 10, 'optimizer': 'RMSprop'}\n",
      "Mean fit time: 11.2811\n",
      "Mean score time: 0.1707\n"
     ]
    }
   ],
   "source": [
    "# create model\n",
    "model = KerasClassifier(build_fn=create_model, verbose=0)\n",
    "# define the grid search parameters\n",
    "batch_size = [10]\n",
    "epochs = [100]\n",
    "optimizer = ['Nadam', 'SGD', 'RMSprop']\n",
    "activation = ['softplus']\n",
    "neurons = [10]\n",
    "init_mode = ['glorot_normal', 'uniform', 'he_uniform']\n",
    "\n",
    "param_grid = dict(batch_size=batch_size, epochs=epochs, optimizer=optimizer, activation=activation,\n",
    "                 neurons=neurons, init_mode=init_mode)\n",
    "grid = GridSearchCV(estimator=model, param_grid=param_grid, n_jobs=-1)\n",
    "\n",
    "# Fit 'grid' to the training data\n",
    "start = clock()\n",
    "grid_result = grid.fit(X_train, y_train)\n",
    "stop = clock()\n",
    "print('Time to hypertune: {:.3f}'.format(stop-start))\n",
    "\n",
    "# summarize results\n",
    "print(\"Best: %f using %s\" % (grid_result.best_score_, grid_result.best_params_))\n",
    "means = grid_result.cv_results_['mean_test_score']\n",
    "stds = grid_result.cv_results_['std_test_score']\n",
    "params = grid_result.cv_results_['params']\n",
    "for mean, stdev, param in zip(means, stds, params):\n",
    "    print(\"%f (%f) with: %r\" % (mean, stdev, param))\n",
    "    \n",
    "# Mean fit and score time for best parameters\n",
    "print('Mean fit time: {:.4f}'.format(grid.cv_results_['mean_fit_time'][grid.best_index_]))\n",
    "print('Mean score time: {:.4f}'.format(grid.cv_results_['mean_score_time'][grid.best_index_]))"
   ]
  },
  {
   "cell_type": "code",
   "execution_count": 19,
   "metadata": {},
   "outputs": [
    {
     "name": "stdout",
     "output_type": "stream",
     "text": [
      "Best CV accuracy: 0.561\n",
      "Test set accuracy of best model: 0.536\n"
     ]
    }
   ],
   "source": [
    "# Extract best CV score from 'grid'\n",
    "print('Best CV accuracy: {:.3f}'.format(grid.best_score_))\n",
    "\n",
    "# Extract best model from 'grid'\n",
    "best_model = grid.best_estimator_\n",
    "\n",
    "# Evaluate test set accuracy\n",
    "test_acc = best_model.score(X_test, y_test)\n",
    "\n",
    "# Print test set accuracy\n",
    "print('Test set accuracy of best model: {:.3f}'.format(test_acc))"
   ]
  },
  {
   "cell_type": "code",
   "execution_count": 8,
   "metadata": {},
   "outputs": [],
   "source": [
    "# Create the new model: model\n",
    "model = tf.keras.Sequential()\n",
    "\n",
    "# Add the first, second & third hidden layers\n",
    "model.add(layers.Dense(10, input_dim=9, kernel_initializer='he_uniform', activation='softplus'))\n",
    "model.add(layers.Dense(10, kernel_initializer='he_uniform', activation='softplus'))\n",
    "model.add(layers.Dense(10, kernel_initializer='he_uniform', activation='softplus'))\n",
    "\n",
    "# Add the output layer\n",
    "model.add(layers.Dense(6, kernel_initializer='he_uniform', activation = 'softmax'))\n",
    "\n",
    "# Compile model\n",
    "model.compile(optimizer = 'RMSprop', loss = 'sparse_categorical_crossentropy', metrics = ['accuracy'])"
   ]
  },
  {
   "cell_type": "code",
   "execution_count": 18,
   "metadata": {},
   "outputs": [
    {
     "name": "stdout",
     "output_type": "stream",
     "text": [
      "Time to fit network: 8.9099\n",
      "Time to predict network: 0.0037\n",
      "Training accuracy: 0.659758\n",
      "Testing accuracy: 0.497172\n"
     ]
    }
   ],
   "source": [
    "# Instantiate unpruned Decision Tree\n",
    "start = clock()\n",
    "model_training= model.fit(X, Y, epochs=100, batch_size=10, validation_split=0.3, verbose=False)\n",
    "stop = clock()\n",
    "print('Time to fit network: {:.4f}'.format(stop-start))\n",
    "\n",
    "# Predict and score results\n",
    "start = clock()\n",
    "y_pred = model.predict(X_test)\n",
    "stop = clock()\n",
    "print('Time to predict network: {:.4f}'.format(stop-start))\n",
    "\n",
    "\n",
    "# Fit model\n",
    "print('Training accuracy: {:4f}'.format(np.mean(model_training.history['acc'])))\n",
    "\n",
    "print('Testing accuracy: {:4f}'.format(np.mean(model_training.history['val_acc'])))"
   ]
  },
  {
   "cell_type": "code",
   "execution_count": 6,
   "metadata": {},
   "outputs": [
    {
     "data": {
      "image/png": "[encoded data removed]",
      "text/plain": [
       "<Figure size 432x288 with 1 Axes>"
      ]
     },
     "metadata": {
      "needs_background": "light"
     },
     "output_type": "display_data"
    },
    {
     "data": {
      "image/png": "[encoded data removed]",
      "text/plain": [
       "<Figure size 432x288 with 1 Axes>"
      ]
     },
     "metadata": {
      "needs_background": "light"
     },
     "output_type": "display_data"
    }
   ],
   "source": [
    "# summarize history for accuracy\n",
    "plt.plot(model_training.history['acc'])\n",
    "plt.plot(model_training.history['val_acc'])\n",
    "plt.title('model accuracy')\n",
    "plt.ylabel('accuracy')\n",
    "plt.xlabel('epoch')\n",
    "plt.legend(['train', 'test'], loc='upper left')\n",
    "plt.show()\n",
    "\n",
    "# summarize history for loss\n",
    "plt.plot(model_training.history['loss'])\n",
    "plt.plot(model_training.history['val_loss'])\n",
    "plt.title('model loss')\n",
    "plt.ylabel('loss')\n",
    "plt.xlabel('epoch')\n",
    "plt.legend(['train', 'test'], loc='upper left')\n",
    "plt.show()"
   ]
  },
  {
   "cell_type": "code",
   "execution_count": null,
   "metadata": {},
   "outputs": [],
   "source": []
  }
 ],
 "metadata": {
  "kernelspec": {
   "display_name": "Python 3",
   "language": "python",
   "name": "python3"
  },
  "language_info": {
   "codemirror_mode": {
    "name": "ipython",
    "version": 3
   },
   "file_extension": ".py",
   "mimetype": "text/x-python",
   "name": "python",
   "nbconvert_exporter": "python",
   "pygments_lexer": "ipython3",
   "version": "3.6.8"
  }
 },
 "nbformat": 4,
 "nbformat_minor": 2
}
