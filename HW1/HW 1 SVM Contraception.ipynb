{
 "cells": [
  {
   "cell_type": "code",
   "execution_count": 1,
   "metadata": {},
   "outputs": [],
   "source": [
    "import pandas as pd\n",
    "import numpy as np\n",
    "from sklearn.model_selection import train_test_split, RandomizedSearchCV, learning_curve, GridSearchCV\n",
    "from sklearn.pipeline import Pipeline\n",
    "from sklearn.preprocessing import StandardScaler, OneHotEncoder\n",
    "from sklearn.metrics import confusion_matrix\n",
    "from sklearn.linear_model import SGDClassifier\n",
    "from sklearn.feature_extraction import DictVectorizer\n",
    "from sklearn.svm import SVC\n",
    "from time import clock\n",
    "import matplotlib.pyplot as plt"
   ]
  },
  {
   "cell_type": "code",
   "execution_count": 2,
   "metadata": {},
   "outputs": [],
   "source": [
    "class_data = pd.read_csv(\"contraceptive.csv\", header=None)\n",
    "class_data.columns = ['w_age','w_ed', 'h_ed', 'n_child', 'w_rel', 'w_work', 'h_occ', 'sol', 'media', 'con_use']\n",
    "X, y = class_data.iloc[:,:-1], class_data.iloc[:,-1]-1\n",
    "X_train, X_test, y_train, y_test = train_test_split(X, y, test_size=0.2, random_state=123)"
   ]
  },
  {
   "cell_type": "code",
   "execution_count": 3,
   "metadata": {
    "scrolled": true
   },
   "outputs": [
    {
     "name": "stdout",
     "output_type": "stream",
     "text": [
      "Fitting 4 folds for each of 225 candidates, totalling 900 fits\n"
     ]
    },
    {
     "name": "stderr",
     "output_type": "stream",
     "text": [
      "[Parallel(n_jobs=-1)]: Using backend LokyBackend with 6 concurrent workers.\n",
      "[Parallel(n_jobs=-1)]: Done  38 tasks      | elapsed:   12.2s\n",
      "[Parallel(n_jobs=-1)]: Done 188 tasks      | elapsed:   58.9s\n",
      "[Parallel(n_jobs=-1)]: Done 438 tasks      | elapsed:  2.3min\n",
      "[Parallel(n_jobs=-1)]: Done 788 tasks      | elapsed:  4.1min\n"
     ]
    },
    {
     "name": "stdout",
     "output_type": "stream",
     "text": [
      "Time to hypertune: 296.746\n"
     ]
    },
    {
     "name": "stderr",
     "output_type": "stream",
     "text": [
      "[Parallel(n_jobs=-1)]: Done 900 out of 900 | elapsed:  4.9min finished\n"
     ]
    }
   ],
   "source": [
    "class_data = class_data.astype({'w_rel':object,'w_work':object,'h_occ':object,'media':object})\n",
    "categorical_mask = (class_data.dtypes == object)\n",
    "\n",
    "pipeline = Pipeline([\n",
    "    ('ohe_onestep', DictVectorizer(sparse=False)),\n",
    "    ('standardscaler', StandardScaler()),\n",
    "    ('clf', SVC())\n",
    "])\n",
    "\n",
    "# Set the parameters by cross-validation\n",
    "tuned_parameters = [{'clf__kernel': ['rbf'], 'clf__gamma':  np.logspace(-4.0, -1.0, num=15),\n",
    "                     'clf__C':  np.logspace(1.0, 4.0, num=15)}#,\n",
    "                    #{'clf__kernel': ['sigmoid'], 'clf__gamma': [1e2, 1e0, 1e-2],\n",
    "                     #'clf__C': [10, 1000, 100000]},\n",
    "                    #{'clf__kernel': ['linear'], 'clf__C': [10, 1000, 100000]}\n",
    "                   ]\n",
    "\n",
    "\n",
    "model = GridSearchCV(pipeline, tuned_parameters, cv=4,\n",
    "                   scoring='accuracy', verbose=1, n_jobs=-1)\n",
    "# Fit the estimator\n",
    "start = clock()\n",
    "model.fit(X_train.to_dict('records'), y_train)\n",
    "stop = clock()\n",
    "print('Time to hypertune: {:.3f}'.format(stop-start))"
   ]
  },
  {
   "cell_type": "code",
   "execution_count": 4,
   "metadata": {},
   "outputs": [
    {
     "name": "stdout",
     "output_type": "stream",
     "text": [
      "Best hyperparameters:\n",
      " {'clf__C': 2275.8459260747886, 'clf__gamma': 0.0011787686347935866, 'clf__kernel': 'rbf'}\n",
      "Best CV accuracy: 0.555\n",
      "Test set accuracy of best model: 0.576\n",
      "[[84  6 29]\n",
      " [25 19 29]\n",
      " [27  9 67]]\n",
      "Mean fit time: 0.1178\n",
      "Mean score time: 0.0097\n"
     ]
    }
   ],
   "source": [
    "# Extract best hyperparameters from 'grid'\n",
    "print('Best hyperparameters:\\n', model.best_params_)\n",
    "\n",
    "# Extract best CV score from 'grid'\n",
    "print('Best CV accuracy: {:.3f}'.format(model.best_score_))\n",
    "\n",
    "# Extract best model from 'grid'\n",
    "best_model = model.best_estimator_\n",
    "\n",
    "# Evaluate test set accuracy\n",
    "test_acc = best_model.score(X_test.to_dict('records'), y_test)\n",
    "\n",
    "# Print test set accuracy\n",
    "print('Test set accuracy of best model: {:.3f}'.format(test_acc))\n",
    "\n",
    "# Print CV confusion matrix\n",
    "best_model.fit(X_train.to_dict('records'), y_train)\n",
    "y_pred = best_model.predict(X_test.to_dict('records'))\n",
    "print(confusion_matrix(y_test, y_pred))\n",
    "\n",
    "# Mean fit and score time for best parameters\n",
    "print('Mean fit time: {:.4f}'.format(model.cv_results_['mean_fit_time'][model.best_index_]))\n",
    "print('Mean score time: {:.4f}'.format(model.cv_results_['mean_score_time'][model.best_index_]))"
   ]
  },
  {
   "cell_type": "code",
   "execution_count": 5,
   "metadata": {},
   "outputs": [
    {
     "data": {
      "image/png": "[encoded data removed]",
      "text/plain": [
       "<Figure size 432x288 with 1 Axes>"
      ]
     },
     "metadata": {
      "needs_background": "light"
     },
     "output_type": "display_data"
    }
   ],
   "source": [
    "# Learning Curve\n",
    "train_sizes, train_scores, test_scores = learning_curve(best_model, X.to_dict('records'), y, n_jobs=-1, \n",
    "                                                        cv=4, train_sizes=np.linspace(.1, 1.0, 20), verbose=0, shuffle=True)\n",
    "\n",
    "train_scores_mean = np.mean(train_scores, axis=1)\n",
    "train_scores_std = np.std(train_scores, axis=1)\n",
    "test_scores_mean = np.mean(test_scores, axis=1)\n",
    "test_scores_std = np.std(test_scores, axis=1)\n",
    "\n",
    "plt.figure()\n",
    "plt.title(\"Contraception Hypertuned SVC\")\n",
    "plt.xlabel(\"Training examples\")\n",
    "plt.ylabel(\"Score\")\n",
    "plt.gca().invert_yaxis()\n",
    "\n",
    "# box-like grid\n",
    "plt.grid()\n",
    "\n",
    "# plot the std deviation as a transparent range at each training set size\n",
    "plt.fill_between(train_sizes, train_scores_mean - train_scores_std, train_scores_mean + train_scores_std, alpha=0.1, color=\"r\")\n",
    "plt.fill_between(train_sizes, test_scores_mean - test_scores_std, test_scores_mean + test_scores_std, alpha=0.1, color=\"g\")\n",
    "\n",
    "# plot the average training and test score lines at each training set size\n",
    "plt.plot(train_sizes, train_scores_mean, 'o-', color=\"r\", label=\"Training score\")\n",
    "plt.plot(train_sizes, test_scores_mean, 'o-', color=\"g\", label=\"Cross-validation score\")\n",
    "\n",
    "# sizes the window for readability and displays the plot\n",
    "# shows error from 0 to 1.1\n",
    "plt.ylim(-.1,1.1)\n",
    "plt.show()"
   ]
  },
  {
   "cell_type": "code",
   "execution_count": null,
   "metadata": {},
   "outputs": [],
   "source": []
  }
 ],
 "metadata": {
  "kernelspec": {
   "display_name": "Python 3",
   "language": "python",
   "name": "python3"
  },
  "language_info": {
   "codemirror_mode": {
    "name": "ipython",
    "version": 3
   },
   "file_extension": ".py",
   "mimetype": "text/x-python",
   "name": "python",
   "nbconvert_exporter": "python",
   "pygments_lexer": "ipython3",
   "version": "3.6.8"
  }
 },
 "nbformat": 4,
 "nbformat_minor": 2
}
