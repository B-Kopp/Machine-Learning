{
 "cells": [
  {
   "cell_type": "code",
   "execution_count": 1,
   "metadata": {},
   "outputs": [],
   "source": [
    "import numpy as np\n",
    "import pandas as pd\n",
    "from sklearn.neighbors import KNeighborsClassifier\n",
    "from sklearn.model_selection import train_test_split, cross_val_score, RandomizedSearchCV, learning_curve\n",
    "from sklearn.pipeline import Pipeline\n",
    "from sklearn.preprocessing import StandardScaler, OneHotEncoder\n",
    "from sklearn.feature_extraction import DictVectorizer\n",
    "from sklearn.metrics import confusion_matrix\n",
    "import matplotlib.pyplot as plt\n",
    "from time import clock"
   ]
  },
  {
   "cell_type": "code",
   "execution_count": 2,
   "metadata": {},
   "outputs": [],
   "source": [
    "class_data = pd.read_csv(\"contraceptive.csv\", header=None)\n",
    "class_data.columns = ['w_age','w_ed', 'h_ed', 'n_child', 'w_rel', 'w_work', 'h_occ', 'sol', 'media', 'con_use']\n",
    "X, y = class_data.iloc[:,:-1], class_data.iloc[:,-1]-1\n",
    "X_train, X_test, y_train, y_test = train_test_split(X, y, test_size=0.2, random_state=123)"
   ]
  },
  {
   "cell_type": "code",
   "execution_count": 3,
   "metadata": {},
   "outputs": [
    {
     "name": "stdout",
     "output_type": "stream",
     "text": [
      "Fitting 4 folds for each of 200 candidates, totalling 800 fits\n"
     ]
    },
    {
     "name": "stderr",
     "output_type": "stream",
     "text": [
      "[Parallel(n_jobs=-1)]: Using backend LokyBackend with 6 concurrent workers.\n",
      "[Parallel(n_jobs=-1)]: Done  38 tasks      | elapsed:   13.1s\n",
      "[Parallel(n_jobs=-1)]: Done 188 tasks      | elapsed:  1.0min\n",
      "[Parallel(n_jobs=-1)]: Done 438 tasks      | elapsed:  2.4min\n",
      "[Parallel(n_jobs=-1)]: Done 788 tasks      | elapsed:  4.2min\n"
     ]
    },
    {
     "name": "stdout",
     "output_type": "stream",
     "text": [
      "Time to hypertune: 257.075\n"
     ]
    },
    {
     "name": "stderr",
     "output_type": "stream",
     "text": [
      "[Parallel(n_jobs=-1)]: Done 800 out of 800 | elapsed:  4.3min finished\n"
     ]
    }
   ],
   "source": [
    "class_data = class_data.astype({'w_rel':object,'w_work':object,'h_occ':object,'media':object})\n",
    "categorical_mask = (class_data.dtypes == object)\n",
    "\n",
    "pipeline = Pipeline([\n",
    "    ('ohe_onestep', DictVectorizer(sparse=False)),\n",
    "    ('standardscaler', StandardScaler()),\n",
    "    ('clf', KNeighborsClassifier())\n",
    "])\n",
    "\n",
    "gbm_param_grid = {\n",
    "    'clf__n_neighbors':range(1,101),\n",
    "    'clf__weights':['uniform', 'distance'],\n",
    "    'clf__metric':['euclidean', 'manhattan', 'chebyshev', 'minkowski']\n",
    "}\n",
    "\n",
    "# Perform RandomizedSearchCV\n",
    "randomized = RandomizedSearchCV(pipeline, param_distributions=gbm_param_grid, n_iter=200, cv=4, scoring='accuracy',\n",
    "                                refit=True, n_jobs = -1, verbose=1, random_state=123)\n",
    "\n",
    "# Fit the estimator\n",
    "start = clock()\n",
    "randomized.fit(X_train.to_dict('records'), y_train)\n",
    "stop = clock()\n",
    "print('Time to hypertune: {:.3f}'.format(stop-start))"
   ]
  },
  {
   "cell_type": "code",
   "execution_count": 4,
   "metadata": {},
   "outputs": [
    {
     "name": "stdout",
     "output_type": "stream",
     "text": [
      "Best hyperparameters:\n",
      " {'clf__weights': 'uniform', 'clf__n_neighbors': 41, 'clf__metric': 'manhattan'}\n",
      "Best CV accuracy: 0.530\n",
      "Test set accuracy of best model: 0.508\n",
      "[[67 17 35]\n",
      " [26 26 21]\n",
      " [28 18 57]]\n",
      "Mean fit time: 0.0103\n",
      "Mean score time: 0.0240\n"
     ]
    }
   ],
   "source": [
    "# Extract best hyperparameters from 'grid'\n",
    "print('Best hyperparameters:\\n', randomized.best_params_)\n",
    "\n",
    "# Extract best CV score from 'grid'\n",
    "print('Best CV accuracy: {:.3f}'.format(randomized.best_score_))\n",
    "\n",
    "# Extract best model from 'grid'\n",
    "best_model = randomized.best_estimator_\n",
    "\n",
    "# Evaluate test set accuracy\n",
    "test_acc = best_model.score(X_test.to_dict('records'), y_test)\n",
    "\n",
    "# Print test set accuracy\n",
    "print('Test set accuracy of best model: {:.3f}'.format(test_acc))\n",
    "\n",
    "# Print CV confusion matrix\n",
    "best_model.fit(X_train.to_dict('records'), y_train)\n",
    "y_pred = best_model.predict(X_test.to_dict('records'))\n",
    "print(confusion_matrix(y_test, y_pred))\n",
    "\n",
    "# Mean fit and score time for best parameters\n",
    "print('Mean fit time: {:.4f}'.format(randomized.cv_results_['mean_fit_time'][randomized.best_index_]))\n",
    "print('Mean score time: {:.4f}'.format(randomized.cv_results_['mean_score_time'][randomized.best_index_]))"
   ]
  },
  {
   "cell_type": "code",
   "execution_count": 5,
   "metadata": {},
   "outputs": [
    {
     "data": {
      "image/png": "[encoded data removed]",
      "text/plain": [
       "<Figure size 432x288 with 1 Axes>"
      ]
     },
     "metadata": {
      "needs_background": "light"
     },
     "output_type": "display_data"
    }
   ],
   "source": [
    "# Learning Curve\n",
    "train_sizes, train_scores, test_scores = learning_curve(best_model, X.to_dict('records'), y, n_jobs=-1, \n",
    "                                                        cv=4, train_sizes=np.linspace(.1, 1.0, 20), verbose=0)\n",
    "\n",
    "train_scores_mean = np.mean(train_scores, axis=1)\n",
    "train_scores_std = np.std(train_scores, axis=1)\n",
    "test_scores_mean = np.mean(test_scores, axis=1)\n",
    "test_scores_std = np.std(test_scores, axis=1)\n",
    "\n",
    "plt.figure()\n",
    "plt.title(\"Contraception Hypertuned KNeighborsClassifier\")\n",
    "plt.xlabel(\"Training examples\")\n",
    "plt.ylabel(\"Score\")\n",
    "plt.gca().invert_yaxis()\n",
    "\n",
    "# box-like grid\n",
    "plt.grid()\n",
    "\n",
    "# plot the std deviation as a transparent range at each training set size\n",
    "plt.fill_between(train_sizes, train_scores_mean - train_scores_std, train_scores_mean + train_scores_std, alpha=0.1, color=\"r\")\n",
    "plt.fill_between(train_sizes, test_scores_mean - test_scores_std, test_scores_mean + test_scores_std, alpha=0.1, color=\"g\")\n",
    "\n",
    "# plot the average training and test score lines at each training set size\n",
    "plt.plot(train_sizes, train_scores_mean, 'o-', color=\"r\", label=\"Training score\")\n",
    "plt.plot(train_sizes, test_scores_mean, 'o-', color=\"g\", label=\"Cross-validation score\")\n",
    "\n",
    "# sizes the window for readability and displays the plot\n",
    "# shows error from 0 to 1.1\n",
    "plt.ylim(-.1,1.1)\n",
    "plt.show()"
   ]
  },
  {
   "cell_type": "code",
   "execution_count": null,
   "metadata": {},
   "outputs": [],
   "source": []
  }
 ],
 "metadata": {
  "kernelspec": {
   "display_name": "Python 3",
   "language": "python",
   "name": "python3"
  },
  "language_info": {
   "codemirror_mode": {
    "name": "ipython",
    "version": 3
   },
   "file_extension": ".py",
   "mimetype": "text/x-python",
   "name": "python",
   "nbconvert_exporter": "python",
   "pygments_lexer": "ipython3",
   "version": "3.6.8"
  }
 },
 "nbformat": 4,
 "nbformat_minor": 2
}
