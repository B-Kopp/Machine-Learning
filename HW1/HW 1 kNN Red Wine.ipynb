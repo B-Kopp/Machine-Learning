{
 "cells": [
  {
   "cell_type": "code",
   "execution_count": 1,
   "metadata": {},
   "outputs": [],
   "source": [
    "import numpy as np\n",
    "import pandas as pd\n",
    "from sklearn.neighbors import KNeighborsClassifier\n",
    "from sklearn.model_selection import train_test_split, cross_val_score, RandomizedSearchCV, learning_curve\n",
    "from sklearn.pipeline import Pipeline\n",
    "from sklearn.preprocessing import StandardScaler, OneHotEncoder\n",
    "from sklearn.feature_extraction import DictVectorizer\n",
    "from sklearn.metrics import confusion_matrix\n",
    "import matplotlib.pyplot as plt\n",
    "from time import clock"
   ]
  },
  {
   "cell_type": "code",
   "execution_count": 2,
   "metadata": {},
   "outputs": [],
   "source": [
    "class_data = pd.read_csv(\"winequality-red.csv\", delimiter=\";\")\n",
    "X, y = class_data.iloc[:,:-1], class_data.iloc[:,-1]-3\n",
    "X_train, X_test, y_train, y_test = train_test_split(X, y, test_size=0.2, random_state=123)"
   ]
  },
  {
   "cell_type": "code",
   "execution_count": 3,
   "metadata": {},
   "outputs": [
    {
     "name": "stdout",
     "output_type": "stream",
     "text": [
      "Fitting 4 folds for each of 800 candidates, totalling 3200 fits\n"
     ]
    },
    {
     "name": "stderr",
     "output_type": "stream",
     "text": [
      "[Parallel(n_jobs=-1)]: Using backend LokyBackend with 6 concurrent workers.\n",
      "[Parallel(n_jobs=-1)]: Done  38 tasks      | elapsed:    2.6s\n",
      "[Parallel(n_jobs=-1)]: Done 329 tasks      | elapsed:    8.6s\n",
      "[Parallel(n_jobs=-1)]: Done 829 tasks      | elapsed:   19.4s\n",
      "[Parallel(n_jobs=-1)]: Done 1529 tasks      | elapsed:   34.5s\n",
      "[Parallel(n_jobs=-1)]: Done 2429 tasks      | elapsed:   53.0s\n",
      "[Parallel(n_jobs=-1)]: Done 3189 out of 3200 | elapsed:  1.1min remaining:    0.1s\n"
     ]
    },
    {
     "name": "stdout",
     "output_type": "stream",
     "text": [
      "Time to hypertune: 69.273\n"
     ]
    },
    {
     "name": "stderr",
     "output_type": "stream",
     "text": [
      "[Parallel(n_jobs=-1)]: Done 3200 out of 3200 | elapsed:  1.2min finished\n",
      "C:\\ProgramData\\Anaconda3\\lib\\site-packages\\sklearn\\model_selection\\_search.py:841: DeprecationWarning: The default of the `iid` parameter will change from True to False in version 0.22 and will be removed in 0.24. This will change numeric results when test-set sizes are unequal.\n",
      "  DeprecationWarning)\n"
     ]
    }
   ],
   "source": [
    "pipeline = Pipeline([\n",
    "    ('standardscaler', StandardScaler()),\n",
    "    ('clf', KNeighborsClassifier())\n",
    "])\n",
    "\n",
    "\n",
    "gbm_param_grid = {\n",
    "    'clf__n_neighbors':range(1,201),\n",
    "    'clf__weights':['uniform', 'distance'],\n",
    "    'clf__metric':['euclidean', 'manhattan', 'chebyshev', 'minkowski']\n",
    "}\n",
    "\n",
    "# Perform RandomizedSearchCV\n",
    "randomized = RandomizedSearchCV(pipeline, param_distributions=gbm_param_grid, n_iter=800, cv=4, scoring='accuracy',\n",
    "                                refit=True, n_jobs = -1, verbose=1, random_state=123)\n",
    "\n",
    "# Fit the estimator\n",
    "start = clock()\n",
    "randomized.fit(X_train, y_train)\n",
    "stop = clock()\n",
    "print('Time to hypertune: {:.3f}'.format(stop-start))"
   ]
  },
  {
   "cell_type": "code",
   "execution_count": 4,
   "metadata": {},
   "outputs": [
    {
     "name": "stdout",
     "output_type": "stream",
     "text": [
      "Best hyperparameters:\n",
      " {'clf__weights': 'distance', 'clf__n_neighbors': 85, 'clf__metric': 'manhattan'}\n",
      "Best CV accuracy: 0.686\n",
      "Test set accuracy of best model: 0.656\n",
      "[[ 0  0  1  0  0  0]\n",
      " [ 0  0  8  5  0  0]\n",
      " [ 0  0 97 34  0  0]\n",
      " [ 0  0 27 97  7  0]\n",
      " [ 0  0  0 23 16  0]\n",
      " [ 0  0  0  2  3  0]]\n",
      "Mean fit time: 0.0040\n",
      "Mean score time: 0.0225\n"
     ]
    }
   ],
   "source": [
    "# Extract best hyperparameters from 'grid'\n",
    "print('Best hyperparameters:\\n', randomized.best_params_)\n",
    "\n",
    "# Extract best CV score from 'grid'\n",
    "print('Best CV accuracy: {:.3f}'.format(randomized.best_score_))\n",
    "\n",
    "# Extract best model from 'grid'\n",
    "best_model = randomized.best_estimator_\n",
    "\n",
    "# Evaluate test set accuracy\n",
    "test_acc = best_model.score(X_test, y_test)\n",
    "\n",
    "# Print test set accuracy\n",
    "print('Test set accuracy of best model: {:.3f}'.format(test_acc))\n",
    "\n",
    "# Print CV confusion matrix\n",
    "best_model.fit(X_train, y_train)\n",
    "y_pred = best_model.predict(X_test)\n",
    "print(confusion_matrix(y_test, y_pred))\n",
    "\n",
    "# Mean fit and score time for best parameters\n",
    "print('Mean fit time: {:.4f}'.format(randomized.cv_results_['mean_fit_time'][randomized.best_index_]))\n",
    "print('Mean score time: {:.4f}'.format(randomized.cv_results_['mean_score_time'][randomized.best_index_]))"
   ]
  },
  {
   "cell_type": "code",
   "execution_count": 5,
   "metadata": {},
   "outputs": [
    {
     "data": {
      "image/png": "[encoded data removed]",
      "text/plain": [
       "<Figure size 432x288 with 1 Axes>"
      ]
     },
     "metadata": {
      "needs_background": "light"
     },
     "output_type": "display_data"
    }
   ],
   "source": [
    "# Learning Curve\n",
    "train_sizes, train_scores, test_scores = learning_curve(best_model, X, y, n_jobs=-1, \n",
    "                                                        cv=4, train_sizes=np.linspace(.1, 1.0, 20), verbose=0)\n",
    "\n",
    "train_scores_mean = np.mean(train_scores, axis=1)\n",
    "train_scores_std = np.std(train_scores, axis=1)\n",
    "test_scores_mean = np.mean(test_scores, axis=1)\n",
    "test_scores_std = np.std(test_scores, axis=1)\n",
    "\n",
    "plt.figure()\n",
    "plt.title(\"Red Wine Hypertuned KNeighborsClassifier\")\n",
    "plt.xlabel(\"Training examples\")\n",
    "plt.ylabel(\"Score\")\n",
    "plt.gca().invert_yaxis()\n",
    "\n",
    "# box-like grid\n",
    "plt.grid()\n",
    "\n",
    "# plot the std deviation as a transparent range at each training set size\n",
    "plt.fill_between(train_sizes, train_scores_mean - train_scores_std, train_scores_mean + train_scores_std, alpha=0.1, color=\"r\")\n",
    "plt.fill_between(train_sizes, test_scores_mean - test_scores_std, test_scores_mean + test_scores_std, alpha=0.1, color=\"g\")\n",
    "\n",
    "# plot the average training and test score lines at each training set size\n",
    "plt.plot(train_sizes, train_scores_mean, 'o-', color=\"r\", label=\"Training score\")\n",
    "plt.plot(train_sizes, test_scores_mean, 'o-', color=\"g\", label=\"Cross-validation score\")\n",
    "\n",
    "# sizes the window for readability and displays the plot\n",
    "# shows error from 0 to 1.1\n",
    "plt.ylim(-.1,1.1)\n",
    "plt.show()"
   ]
  },
  {
   "cell_type": "code",
   "execution_count": null,
   "metadata": {},
   "outputs": [],
   "source": []
  }
 ],
 "metadata": {
  "kernelspec": {
   "display_name": "Python 3",
   "language": "python",
   "name": "python3"
  },
  "language_info": {
   "codemirror_mode": {
    "name": "ipython",
    "version": 3
   },
   "file_extension": ".py",
   "mimetype": "text/x-python",
   "name": "python",
   "nbconvert_exporter": "python",
   "pygments_lexer": "ipython3",
   "version": "3.6.8"
  }
 },
 "nbformat": 4,
 "nbformat_minor": 2
}
